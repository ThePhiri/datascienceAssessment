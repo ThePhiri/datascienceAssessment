{
 "cells": [
  {
   "cell_type": "markdown",
   "metadata": {},
   "source": [
    "### Problem Approach\n",
    "1. Ensure that constraints are checked as conditions\n",
    "2. Break it down into required parts i.e Get median, spend and expenditure\n",
    "3. Compare spend to 2 times the median and increment notification count everytime spend is greater\n"
   ]
  },
  {
   "cell_type": "code",
   "execution_count": 175,
   "metadata": {},
   "outputs": [],
   "source": [
    "import numpy as np\n",
    "import unittest"
   ]
  },
  {
   "cell_type": "code",
   "execution_count": 176,
   "metadata": {},
   "outputs": [],
   "source": [
    "def fraudNotification(d, expenditure):\n",
    "    fraudCount = 0\n",
    "    n = len(expenditure)\n",
    "    \n",
    "    #check to ensure constraints are met\n",
    "    cond1 = n >= 1 and n <= 10**5\n",
    "    cond2 = d >= 1 and d <= n\n",
    "    \n",
    "    if cond1 and cond2:\n",
    "        \n",
    "        for i in range(len(expenditure[d:])):\n",
    "            #get correct day i.e day after data gathering and calculate median\n",
    "            \n",
    "            median = round(np.median(expenditure[:d + 1]))\n",
    "            print('median >>', median)\n",
    "            spend = expenditure[d]\n",
    "            print('spend >>', spend)\n",
    "            if spend >= (2 * median):\n",
    "                print('Day number ', d + 1)\n",
    "                fraudCount += 1\n",
    "                median+=1\n",
    "                print('Current Total Notifications  = ', fraudCount)\n",
    "            else:\n",
    "                fraudCount = fraudCount\n",
    "                print('Current Total Notifications = ',fraudCount)\n",
    "            d = d + 1 \n",
    "    else:\n",
    "        print(\"Conditions not met\")\n",
    "        \n",
    "    \n",
    "    return fraudCount\n",
    "\n"
   ]
  },
  {
   "cell_type": "code",
   "execution_count": 179,
   "metadata": {},
   "outputs": [
    {
     "name": "stdout",
     "output_type": "stream",
     "text": [
      "Day number  6\n",
      "median >> 3.0\n",
      "spend >> 6\n",
      "Current Total Notifications  =  1\n",
      "Day number  7\n",
      "median >> 3.0\n",
      "spend >> 8\n",
      "Current Total Notifications  =  2\n",
      "Day number  8\n",
      "median >> 4.0\n",
      "spend >> 4\n",
      "Current Total Notifications =  2\n",
      "Day number  9\n",
      "median >> 4.0\n",
      "spend >> 5\n",
      "Current Total Notifications =  2\n"
     ]
    },
    {
     "data": {
      "text/plain": [
       "2"
      ]
     },
     "execution_count": 179,
     "metadata": {},
     "output_type": "execute_result"
    }
   ],
   "source": [
    "fraudNotification(5, [2, 3, 4, 2, 3, 6, 8, 4, 5])"
   ]
  },
  {
   "cell_type": "code",
   "execution_count": 181,
   "metadata": {},
   "outputs": [
    {
     "name": "stderr",
     "output_type": "stream",
     "text": [
      "testWithD0 (__main__.TestNotebook) ... ok\n",
      "testWithD4 (__main__.TestNotebook) ... "
     ]
    },
    {
     "name": "stdout",
     "output_type": "stream",
     "text": [
      "Conditions not met\n",
      "Day number  5\n"
     ]
    },
    {
     "name": "stderr",
     "output_type": "stream",
     "text": [
      "ok\n",
      "testWithD5 (__main__.TestNotebook) ... "
     ]
    },
    {
     "name": "stdout",
     "output_type": "stream",
     "text": [
      "median >> 3.0\n",
      "spend >> 4\n",
      "Current Total Notifications =  0\n",
      "Day number  6\n",
      "median >> 3.0\n",
      "spend >> 6\n",
      "Current Total Notifications  =  1\n",
      "Day number  7\n",
      "median >> 3.0\n",
      "spend >> 8\n",
      "Current Total Notifications  =  2\n",
      "Day number  8\n",
      "median >> 4.0\n",
      "spend >> 4\n",
      "Current Total Notifications =  2\n",
      "Day number  9\n",
      "median >> 4.0\n",
      "spend >> 5\n",
      "Current Total Notifications =  2\n"
     ]
    },
    {
     "name": "stderr",
     "output_type": "stream",
     "text": [
      "ok\n",
      "\n",
      "----------------------------------------------------------------------\n",
      "Ran 3 tests in 0.251s\n",
      "\n",
      "OK\n"
     ]
    },
    {
     "data": {
      "text/plain": [
       "<unittest.main.TestProgram at 0x7f38bf4617b8>"
      ]
     },
     "execution_count": 181,
     "metadata": {},
     "output_type": "execute_result"
    }
   ],
   "source": [
    "class TestNotebook(unittest.TestCase):\n",
    "\n",
    "    def testWithD5(self):\n",
    "        self.assertEqual(fraudNotification(5, [2, 3, 4, 2, 3, 6, 8, 4, 5]), 2)\n",
    "    \n",
    "    def testWithD4(self):\n",
    "        self.assertEqual(fraudNotification(4, [1, 2, 3, 4, 4]), 0)\n",
    "        \n",
    "    def testWithD0(self):\n",
    "        self.assertEqual(fraudNotification(4, []), 0)\n",
    "        \n",
    "unittest.main(argv=[''], verbosity=2, exit=False)"
   ]
  },
  {
   "cell_type": "code",
   "execution_count": null,
   "metadata": {},
   "outputs": [],
   "source": []
  }
 ],
 "metadata": {
  "kernelspec": {
   "display_name": "Python 3",
   "language": "python",
   "name": "python3"
  },
  "language_info": {
   "codemirror_mode": {
    "name": "ipython",
    "version": 3
   },
   "file_extension": ".py",
   "mimetype": "text/x-python",
   "name": "python",
   "nbconvert_exporter": "python",
   "pygments_lexer": "ipython3",
   "version": "3.7.3"
  }
 },
 "nbformat": 4,
 "nbformat_minor": 2
}
